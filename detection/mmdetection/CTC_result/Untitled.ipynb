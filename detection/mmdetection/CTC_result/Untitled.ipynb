{
 "cells": [
  {
   "cell_type": "code",
   "execution_count": 3,
   "metadata": {},
   "outputs": [],
   "source": [
    "import pickle\n",
    "base_pkl = pickle.load(open('CTC_brightfield_fl_dino_1_RGU.pkl', \"rb\"))"
   ]
  },
  {
   "cell_type": "code",
   "execution_count": 15,
   "metadata": {},
   "outputs": [
    {
     "data": {
      "text/plain": [
       "{0: 3042, 1: 3374, 2: 3459}"
      ]
     },
     "execution_count": 15,
     "metadata": {},
     "output_type": "execute_result"
    }
   ],
   "source": [
    "from torchvision.ops import nms\n",
    "import torch\n",
    "import numpy as np\n",
    "import cv2\n",
    "import matplotlib.pyplot as plt\n",
    "x = 0 \n",
    "y = {0:0, 1:0, 2:0}\n",
    "for pred_bbox in base_pkl:\n",
    "    scores = pred_bbox['pred_instances']['scores'].reshape(-1, 1)\n",
    "    bboxes = pred_bbox['pred_instances']['bboxes']\n",
    "    labels = pred_bbox['pred_instances']['labels'].reshape(-1, 1)\n",
    "\n",
    "    bboxes = np.concatenate([bboxes, scores, labels], axis = 1)\n",
    "    nms_bboxes = nms(torch.tensor(bboxes[:, :4]), torch.tensor(bboxes[:, 4]), iou_threshold = 0.5)\n",
    "    bboxes = bboxes[nms_bboxes]\n",
    "    img = cv2.imread('../' + pred_bbox['img_path']) \n",
    "    img = np.array(255 * (img / img.max()), dtype = np.uint8)\n",
    "    for bbox in bboxes:\n",
    "        xmin, ymin, xmax, ymax, conf, class_id = tuple(bbox)\n",
    "        if(conf < 0.3):continue\n",
    "#         print(xmin, ymin, xmax, ymax)\n",
    "        cv2.rectangle(img, (int(xmin), int(ymin)), (int(xmax), int(ymax)), (0, 0, 255), 1)\n",
    "        y[int(class_id)] +=1\n",
    "#     plt.imshow(img[..., ::-1])\n",
    "#     plt.show()\n",
    "    x += len(bboxes)\n",
    "y"
   ]
  },
  {
   "cell_type": "code",
   "execution_count": 11,
   "metadata": {},
   "outputs": [
    {
     "data": {
      "text/plain": [
       "{0: 3042, 1: 3374, 2: 3459}"
      ]
     },
     "execution_count": 11,
     "metadata": {},
     "output_type": "execute_result"
    }
   ],
   "source": []
  },
  {
   "cell_type": "code",
   "execution_count": null,
   "metadata": {},
   "outputs": [],
   "source": []
  }
 ],
 "metadata": {
  "kernelspec": {
   "display_name": "Python 3 (ipykernel)",
   "language": "python",
   "name": "python3"
  },
  "language_info": {
   "codemirror_mode": {
    "name": "ipython",
    "version": 3
   },
   "file_extension": ".py",
   "mimetype": "text/x-python",
   "name": "python",
   "nbconvert_exporter": "python",
   "pygments_lexer": "ipython3",
   "version": "3.7.16"
  }
 },
 "nbformat": 4,
 "nbformat_minor": 4
}
